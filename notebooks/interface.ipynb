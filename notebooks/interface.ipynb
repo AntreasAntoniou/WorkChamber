{
 "cells": [
  {
   "cell_type": "code",
   "execution_count": 1,
   "metadata": {},
   "outputs": [
    {
     "name": "stderr",
     "output_type": "stream",
     "text": [
      "/tmp/ipykernel_122880/1454597068.py:35: DeprecationWarning: on_submit is deprecated. Instead, set the .continuous_update attribute to False and observe the value changing with: mywidget.observe(callback, 'value').\n",
      "  input_box.on_submit(on_submit)\n"
     ]
    },
    {
     "data": {
      "application/vnd.jupyter.widget-view+json": {
       "model_id": "d303d578d68f490cb72a307bea629f50",
       "version_major": 2,
       "version_minor": 0
      },
      "text/plain": [
       "Output(layout=Layout(height='450px'))"
      ]
     },
     "metadata": {},
     "output_type": "display_data"
    },
    {
     "data": {
      "application/vnd.jupyter.widget-view+json": {
       "model_id": "57b791ce86e545ae8885285d979c7a79",
       "version_major": 2,
       "version_minor": 0
      },
      "text/plain": [
       "Text(value='', description='You: ', layout=Layout(width='100%'))"
      ]
     },
     "metadata": {},
     "output_type": "display_data"
    }
   ],
   "source": [
    "import openai\n",
    "import os\n",
    "import ipywidgets as widgets\n",
    "from IPython.display import display, Markdown\n",
    "from typing import Dict, List, Optional, Union\n",
    "\n",
    "from workchamber.core import ChamberAssistant\n",
    "\n",
    "# Interactive chat interface for Jupyter Notebook\n",
    "output_area = widgets.Output(layout=widgets.Layout(\n",
    "    height=\"450px\", overflow_y=\"scroll\"\n",
    "))\n",
    "input_box = widgets.Text(description=\"You: \", layout=widgets.Layout(width=\"100%\"))\n",
    "\n",
    "# Initialize the assistant\n",
    "assistant = ChamberAssistant(storage_path='debug-0', api_key=api_key)\n",
    "# Load codebase (only required if you want codebase context)\n",
    "# assistant.load_codebase(\"<path-to-your-codebase>\")\n",
    "# Display chat interface\n",
    "def on_submit(change):\n",
    "    user_message = input_box.value\n",
    "    input_box.value = \"\"\n",
    "    \n",
    "    with output_area:\n",
    "        context_options = assistant.select_context_options()\n",
    "        response = assistant.generate_response(user_message, **context_options)\n",
    "        assistant.add_message(user_message, \"user\")\n",
    "        assistant.add_message(response, \"ai\")\n",
    "        \n",
    "        display(Markdown(f\"**You:** {user_message}\"))\n",
    "        display(Markdown(f\"**Assistant:** {response}\\n\"))\n",
    "        \n",
    "\n",
    "input_box.on_submit(on_submit)\n",
    "\n",
    "\n",
    "display(output_area, input_box)\n"
   ]
  }
 ],
 "metadata": {
  "kernelspec": {
   "display_name": "base",
   "language": "python",
   "name": "python3"
  },
  "language_info": {
   "codemirror_mode": {
    "name": "ipython",
    "version": 3
   },
   "file_extension": ".py",
   "mimetype": "text/x-python",
   "name": "python",
   "nbconvert_exporter": "python",
   "pygments_lexer": "ipython3",
   "version": "3.10.11"
  },
  "orig_nbformat": 4
 },
 "nbformat": 4,
 "nbformat_minor": 2
}
